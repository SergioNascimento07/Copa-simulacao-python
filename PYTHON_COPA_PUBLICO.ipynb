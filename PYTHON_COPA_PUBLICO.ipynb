{
 "cells": [
  {
   "cell_type": "code",
   "execution_count": 6,
   "id": "05b451b9",
   "metadata": {},
   "outputs": [],
   "source": [
    "import pandas as pd\n",
    "import pyodbc"
   ]
  },
  {
   "cell_type": "code",
   "execution_count": 7,
   "id": "115c957c",
   "metadata": {},
   "outputs": [],
   "source": [
    "import warnings\n",
    "warnings.filterwarnings(\"ignore\")"
   ]
  },
  {
   "cell_type": "code",
   "execution_count": 8,
   "id": "36678039",
   "metadata": {},
   "outputs": [],
   "source": [
    "#OBS: COLOCAR DADOS DA CONEXÃO, EU USEI O MySQL\n",
    "dados_conexao = ( \n",
    "    \"Driver={Devart ODBC Driver for MySQL};\"\n",
    "    \"User ID=****;\"\n",
    "    \"Password=****;\"\n",
    "    \"Server=****;\"\n",
    "    \"Database=copa;\"\n",
    ")"
   ]
  },
  {
   "cell_type": "code",
   "execution_count": 9,
   "id": "c85898b5",
   "metadata": {},
   "outputs": [],
   "source": [
    "con = pyodbc.connect(dados_conexao)"
   ]
  },
  {
   "cell_type": "code",
   "execution_count": 10,
   "id": "a94f6004",
   "metadata": {},
   "outputs": [],
   "source": [
    "df = pd.read_sql_query('''SELECT N_GRUPO,\t\n",
    "        MAX(CASE WHEN GRUPO = 'A' THEN TIMES else null end) as A,\n",
    "        MAX(CASE WHEN GRUPO = 'B' THEN TIMES else null end) as B,\n",
    "        MAX(CASE WHEN GRUPO = 'C' THEN TIMES else null end) as C,\n",
    "        MAX(CASE WHEN GRUPO = 'D' THEN TIMES else null end) as D,\n",
    "\t\tMAX(CASE WHEN GRUPO = 'E' THEN TIMES else null end) as E,\n",
    "        MAX(CASE WHEN GRUPO = 'F' THEN TIMES else null end) as F,\n",
    "        MAX(CASE WHEN GRUPO = 'G' THEN TIMES else null end) as G,\n",
    "        MAX(CASE WHEN GRUPO = 'H' THEN TIMES else null end) as H\n",
    "FROM TIMES_E_SCORES\n",
    "GROUP BY N_GRUPO\n",
    "ORDER BY N_GRUPO;''', con)"
   ]
  },
  {
   "cell_type": "code",
   "execution_count": 11,
   "id": "e76e53c8",
   "metadata": {},
   "outputs": [
    {
     "data": {
      "text/html": [
       "<div>\n",
       "<style scoped>\n",
       "    .dataframe tbody tr th:only-of-type {\n",
       "        vertical-align: middle;\n",
       "    }\n",
       "\n",
       "    .dataframe tbody tr th {\n",
       "        vertical-align: top;\n",
       "    }\n",
       "\n",
       "    .dataframe thead th {\n",
       "        text-align: right;\n",
       "    }\n",
       "</style>\n",
       "<table border=\"1\" class=\"dataframe\">\n",
       "  <thead>\n",
       "    <tr style=\"text-align: right;\">\n",
       "      <th></th>\n",
       "      <th>N_GRUPO</th>\n",
       "      <th>A</th>\n",
       "      <th>B</th>\n",
       "      <th>C</th>\n",
       "      <th>D</th>\n",
       "      <th>E</th>\n",
       "      <th>F</th>\n",
       "      <th>G</th>\n",
       "      <th>H</th>\n",
       "    </tr>\n",
       "  </thead>\n",
       "  <tbody>\n",
       "    <tr>\n",
       "      <th>0</th>\n",
       "      <td>1</td>\n",
       "      <td>CAT|1442.0</td>\n",
       "      <td>EUA|1635.0</td>\n",
       "      <td>ARG|1770.7</td>\n",
       "      <td>AUS|1483.7</td>\n",
       "      <td>ALE|1659.0</td>\n",
       "      <td>BEL|1821.9</td>\n",
       "      <td>BRA|1837.6</td>\n",
       "      <td>COR|1526.0</td>\n",
       "    </tr>\n",
       "    <tr>\n",
       "      <th>1</th>\n",
       "      <td>2</td>\n",
       "      <td>EQU|1463.7</td>\n",
       "      <td>ING|1737.5</td>\n",
       "      <td>ARA|1435.7</td>\n",
       "      <td>DIN|1665.5</td>\n",
       "      <td>COS|1500.1</td>\n",
       "      <td>CAN|1473.8</td>\n",
       "      <td>CAM|1485.0</td>\n",
       "      <td>GAN|1393.5</td>\n",
       "    </tr>\n",
       "    <tr>\n",
       "      <th>2</th>\n",
       "      <td>3</td>\n",
       "      <td>HOL|1679.4</td>\n",
       "      <td>IRA|1558.6</td>\n",
       "      <td>MEX|1649.6</td>\n",
       "      <td>FRA|1764.9</td>\n",
       "      <td>ESP|1716.9</td>\n",
       "      <td>CRO|1632.2</td>\n",
       "      <td>SUI|1621.4</td>\n",
       "      <td>POR|1678.7</td>\n",
       "    </tr>\n",
       "    <tr>\n",
       "      <th>3</th>\n",
       "      <td>4</td>\n",
       "      <td>SEN|1584.6</td>\n",
       "      <td>GAL|1582.1</td>\n",
       "      <td>POL|1546.2</td>\n",
       "      <td>TUN|1507.9</td>\n",
       "      <td>JAP|1554.7</td>\n",
       "      <td>MAR|1558.4</td>\n",
       "      <td>SER|1549.5</td>\n",
       "      <td>URU|1641.0</td>\n",
       "    </tr>\n",
       "  </tbody>\n",
       "</table>\n",
       "</div>"
      ],
      "text/plain": [
       "   N_GRUPO           A           B           C           D           E  \\\n",
       "0        1  CAT|1442.0  EUA|1635.0  ARG|1770.7  AUS|1483.7  ALE|1659.0   \n",
       "1        2  EQU|1463.7  ING|1737.5  ARA|1435.7  DIN|1665.5  COS|1500.1   \n",
       "2        3  HOL|1679.4  IRA|1558.6  MEX|1649.6  FRA|1764.9  ESP|1716.9   \n",
       "3        4  SEN|1584.6  GAL|1582.1  POL|1546.2  TUN|1507.9  JAP|1554.7   \n",
       "\n",
       "            F           G           H  \n",
       "0  BEL|1821.9  BRA|1837.6  COR|1526.0  \n",
       "1  CAN|1473.8  CAM|1485.0  GAN|1393.5  \n",
       "2  CRO|1632.2  SUI|1621.4  POR|1678.7  \n",
       "3  MAR|1558.4  SER|1549.5  URU|1641.0  "
      ]
     },
     "metadata": {},
     "output_type": "display_data"
    }
   ],
   "source": [
    "display(df)"
   ]
  },
  {
   "cell_type": "code",
   "execution_count": 13,
   "id": "8ca00556",
   "metadata": {},
   "outputs": [],
   "source": [
    "df = df.drop(['N_GRUPO'], axis = 1)"
   ]
  },
  {
   "cell_type": "code",
   "execution_count": 14,
   "id": "4e6e9fe0",
   "metadata": {},
   "outputs": [
    {
     "data": {
      "text/html": [
       "<div>\n",
       "<style scoped>\n",
       "    .dataframe tbody tr th:only-of-type {\n",
       "        vertical-align: middle;\n",
       "    }\n",
       "\n",
       "    .dataframe tbody tr th {\n",
       "        vertical-align: top;\n",
       "    }\n",
       "\n",
       "    .dataframe thead th {\n",
       "        text-align: right;\n",
       "    }\n",
       "</style>\n",
       "<table border=\"1\" class=\"dataframe\">\n",
       "  <thead>\n",
       "    <tr style=\"text-align: right;\">\n",
       "      <th></th>\n",
       "      <th>A</th>\n",
       "      <th>B</th>\n",
       "      <th>C</th>\n",
       "      <th>D</th>\n",
       "      <th>E</th>\n",
       "      <th>F</th>\n",
       "      <th>G</th>\n",
       "      <th>H</th>\n",
       "    </tr>\n",
       "  </thead>\n",
       "  <tbody>\n",
       "    <tr>\n",
       "      <th>0</th>\n",
       "      <td>CAT|1442.0</td>\n",
       "      <td>EUA|1635.0</td>\n",
       "      <td>ARG|1770.7</td>\n",
       "      <td>AUS|1483.7</td>\n",
       "      <td>ALE|1659.0</td>\n",
       "      <td>BEL|1821.9</td>\n",
       "      <td>BRA|1837.6</td>\n",
       "      <td>COR|1526.0</td>\n",
       "    </tr>\n",
       "    <tr>\n",
       "      <th>1</th>\n",
       "      <td>EQU|1463.7</td>\n",
       "      <td>ING|1737.5</td>\n",
       "      <td>ARA|1435.7</td>\n",
       "      <td>DIN|1665.5</td>\n",
       "      <td>COS|1500.1</td>\n",
       "      <td>CAN|1473.8</td>\n",
       "      <td>CAM|1485.0</td>\n",
       "      <td>GAN|1393.5</td>\n",
       "    </tr>\n",
       "    <tr>\n",
       "      <th>2</th>\n",
       "      <td>HOL|1679.4</td>\n",
       "      <td>IRA|1558.6</td>\n",
       "      <td>MEX|1649.6</td>\n",
       "      <td>FRA|1764.9</td>\n",
       "      <td>ESP|1716.9</td>\n",
       "      <td>CRO|1632.2</td>\n",
       "      <td>SUI|1621.4</td>\n",
       "      <td>POR|1678.7</td>\n",
       "    </tr>\n",
       "    <tr>\n",
       "      <th>3</th>\n",
       "      <td>SEN|1584.6</td>\n",
       "      <td>GAL|1582.1</td>\n",
       "      <td>POL|1546.2</td>\n",
       "      <td>TUN|1507.9</td>\n",
       "      <td>JAP|1554.7</td>\n",
       "      <td>MAR|1558.4</td>\n",
       "      <td>SER|1549.5</td>\n",
       "      <td>URU|1641.0</td>\n",
       "    </tr>\n",
       "  </tbody>\n",
       "</table>\n",
       "</div>"
      ],
      "text/plain": [
       "            A           B           C           D           E           F  \\\n",
       "0  CAT|1442.0  EUA|1635.0  ARG|1770.7  AUS|1483.7  ALE|1659.0  BEL|1821.9   \n",
       "1  EQU|1463.7  ING|1737.5  ARA|1435.7  DIN|1665.5  COS|1500.1  CAN|1473.8   \n",
       "2  HOL|1679.4  IRA|1558.6  MEX|1649.6  FRA|1764.9  ESP|1716.9  CRO|1632.2   \n",
       "3  SEN|1584.6  GAL|1582.1  POL|1546.2  TUN|1507.9  JAP|1554.7  MAR|1558.4   \n",
       "\n",
       "            G           H  \n",
       "0  BRA|1837.6  COR|1526.0  \n",
       "1  CAM|1485.0  GAN|1393.5  \n",
       "2  SUI|1621.4  POR|1678.7  \n",
       "3  SER|1549.5  URU|1641.0  "
      ]
     },
     "metadata": {},
     "output_type": "display_data"
    }
   ],
   "source": [
    "display(df)"
   ]
  },
  {
   "cell_type": "code",
   "execution_count": null,
   "id": "465caed1",
   "metadata": {},
   "outputs": [],
   "source": []
  },
  {
   "cell_type": "code",
   "execution_count": 15,
   "id": "0f6e80f2",
   "metadata": {},
   "outputs": [],
   "source": [
    "import random\n",
    "\n",
    "class Team:\n",
    "  BEST_SCORE = 1837.6\n",
    "  def __init__(self, cellData):\n",
    "    teamData = cellData.split('|')\n",
    "    self.name = teamData[0]\n",
    "    self.score = float(teamData[1])\n",
    "\n",
    "  def motivate(self):\n",
    "    self.lastMotivation = random.uniform(70, (self.score * 100) / Team.BEST_SCORE)\n",
    "    return self.lastMotivation"
   ]
  },
  {
   "cell_type": "code",
   "execution_count": 16,
   "id": "41886f33",
   "metadata": {},
   "outputs": [],
   "source": [
    "bestTeamsByGroup = {}\n",
    "\n",
    "for label, content in df.items():\n",
    "  team1 = Team(content[0])\n",
    "  team2 = Team(content[1])\n",
    "  team3 = Team(content[2])\n",
    "  team4 = Team(content[3])\n",
    "\n",
    "  bestTeamsByGroup[label] = sorted([team1, team2, team3, team4], key = Team.motivate, reverse = True)\n"
   ]
  },
  {
   "cell_type": "code",
   "execution_count": 17,
   "id": "11d01cb0",
   "metadata": {},
   "outputs": [
    {
     "name": "stdout",
     "output_type": "stream",
     "text": [
      "Grupo A: SEN (77.33) EQU (77.24) HOL (75.47) CAT (71.39) \n",
      "Grupo B: ING (92.21) EUA (85.26) GAL (74.60) IRA (71.69) \n",
      "Grupo C: ARA (77.51) ARG (77.29) MEX (76.87) POL (73.69) \n",
      "Grupo D: TUN (79.98) AUS (77.20) FRA (72.85) DIN (70.54) \n",
      "Grupo E: JAP (82.44) ESP (81.48) ALE (76.11) COS (73.79) \n",
      "Grupo F: CRO (76.88) MAR (73.20) BEL (71.73) CAN (71.64) \n",
      "Grupo G: BRA (92.74) SUI (86.18) SER (77.01) CAM (76.33) \n",
      "Grupo H: URU (87.09) POR (85.37) COR (76.76) GAN (71.27) \n"
     ]
    }
   ],
   "source": [
    "for grupo, motivatedTeams in bestTeamsByGroup.items():\n",
    "  print(f'Grupo {grupo}: ', end = \"\")\n",
    "  for team in motivatedTeams:\n",
    "    print(f'{team.name} ({team.lastMotivation:.2f}) ', end=\"\")\n",
    "  print()"
   ]
  },
  {
   "cell_type": "code",
   "execution_count": 18,
   "id": "d8051b32",
   "metadata": {},
   "outputs": [],
   "source": [
    "team1A = bestTeamsByGroup['A'][0]\n",
    "team2A = bestTeamsByGroup['A'][1]\n",
    "team1B = bestTeamsByGroup['B'][0]\n",
    "team2B = bestTeamsByGroup['B'][1]\n",
    "team1C = bestTeamsByGroup['C'][0]\n",
    "team2C = bestTeamsByGroup['C'][1]\n",
    "team1D = bestTeamsByGroup['D'][0]\n",
    "team2D = bestTeamsByGroup['D'][1]\n",
    "team1E = bestTeamsByGroup['E'][0]\n",
    "team2E = bestTeamsByGroup['E'][1]\n",
    "team1F = bestTeamsByGroup['F'][0]\n",
    "team2F = bestTeamsByGroup['F'][1]\n",
    "team1G = bestTeamsByGroup['G'][0]\n",
    "team2G = bestTeamsByGroup['G'][1]\n",
    "team1H = bestTeamsByGroup['H'][0]\n",
    "team2H = bestTeamsByGroup['H'][1]"
   ]
  },
  {
   "cell_type": "code",
   "execution_count": 19,
   "id": "aeb8690d",
   "metadata": {},
   "outputs": [],
   "source": [
    "quarter1 = team1A if team1A.motivate() > team2B.motivate() else team2B\n",
    "quarter2 = team1C if team1C.motivate() > team2D.motivate() else team2D\n",
    "quarter3 = team1E if team1E.motivate() > team2F.motivate() else team2F\n",
    "quarter4 = team1G if team1G.motivate() > team2H.motivate() else team2H\n",
    "quarter5 = team1B if team1B.motivate() > team2A.motivate() else team2A\n",
    "quarter6 = team1D if team1D.motivate() > team2C.motivate() else team2C\n",
    "quarter7 = team1F if team1F.motivate() > team2E.motivate() else team2E\n",
    "quarter8 = team1H if team1H.motivate() > team2G.motivate() else team2G    "
   ]
  },
  {
   "cell_type": "code",
   "execution_count": 20,
   "id": "21377406",
   "metadata": {},
   "outputs": [
    {
     "name": "stdout",
     "output_type": "stream",
     "text": [
      "SEN (77.26) x EUA (83.95)\n",
      "ARA (73.58) x AUS (74.38)\n",
      "JAP (81.39) x MAR (76.74)\n",
      "BRA (81.68) x POR (84.49)\n",
      "ING (86.88) x EQU (75.56)\n",
      "TUN (79.74) x ARG (88.08)\n",
      "CRO (74.84) x ESP (88.37)\n",
      "URU (83.39) x SUI (73.74)\n"
     ]
    }
   ],
   "source": [
    "print(f'{team1A.name} ({team1A.lastMotivation:.2f}) x {team2B.name} ({team2B.lastMotivation:.2f})')\n",
    "print(f'{team1C.name} ({team1C.lastMotivation:.2f}) x {team2D.name} ({team2D.lastMotivation:.2f})')\n",
    "print(f'{team1E.name} ({team1E.lastMotivation:.2f}) x {team2F.name} ({team2F.lastMotivation:.2f})')\n",
    "print(f'{team1G.name} ({team1G.lastMotivation:.2f}) x {team2H.name} ({team2H.lastMotivation:.2f})')\n",
    "print(f'{team1B.name} ({team1B.lastMotivation:.2f}) x {team2A.name} ({team2A.lastMotivation:.2f})')\n",
    "print(f'{team1D.name} ({team1D.lastMotivation:.2f}) x {team2C.name} ({team2C.lastMotivation:.2f})')\n",
    "print(f'{team1F.name} ({team1F.lastMotivation:.2f}) x {team2E.name} ({team2E.lastMotivation:.2f})')\n",
    "print(f'{team1H.name} ({team1H.lastMotivation:.2f}) x {team2G.name} ({team2G.lastMotivation:.2f})')"
   ]
  },
  {
   "cell_type": "code",
   "execution_count": 21,
   "id": "0ffd1382",
   "metadata": {},
   "outputs": [],
   "source": [
    "semi1 = quarter1 if quarter1.motivate() > quarter2.motivate() else quarter2\n",
    "semi2 = quarter3 if quarter3.motivate() > quarter4.motivate() else quarter4\n",
    "semi3 = quarter5 if quarter5.motivate() > quarter6.motivate() else quarter6\n",
    "semi4 = quarter7 if quarter7.motivate() > quarter8.motivate() else quarter8"
   ]
  },
  {
   "cell_type": "code",
   "execution_count": 22,
   "id": "3e290daa",
   "metadata": {},
   "outputs": [
    {
     "name": "stdout",
     "output_type": "stream",
     "text": [
      "EUA (70.60) x AUS (76.73)\n",
      "JAP (78.06) x POR (86.41)\n",
      "ING (76.86) x ARG (72.33)\n",
      "ESP (71.40) x URU (89.08)\n"
     ]
    }
   ],
   "source": [
    "print(f'{quarter1.name} ({quarter1.lastMotivation:.2f}) x {quarter2.name} ({quarter2.lastMotivation:.2f})')\n",
    "print(f'{quarter3.name} ({quarter3.lastMotivation:.2f}) x {quarter4.name} ({quarter4.lastMotivation:.2f})')\n",
    "print(f'{quarter5.name} ({quarter5.lastMotivation:.2f}) x {quarter6.name} ({quarter6.lastMotivation:.2f})')\n",
    "print(f'{quarter7.name} ({quarter7.lastMotivation:.2f}) x {quarter8.name} ({quarter8.lastMotivation:.2f})')"
   ]
  },
  {
   "cell_type": "code",
   "execution_count": 23,
   "id": "f4fbcf06",
   "metadata": {},
   "outputs": [
    {
     "name": "stdout",
     "output_type": "stream",
     "text": [
      "AUS (72.39) x POR (84.32)\n",
      "ING (83.97) x URU (87.39)\n"
     ]
    }
   ],
   "source": [
    "final1 = semi1 if semi1.motivate() > semi2.motivate() else semi2\n",
    "terceiro1 = semi1 if semi1.lastMotivation < semi2.lastMotivation else semi2\n",
    "\n",
    "final2 = semi3 if semi3.motivate() > semi4.motivate() else semi4\n",
    "terceiro2 = semi3 if semi3.lastMotivation < semi4.lastMotivation else semi4  \n",
    "\n",
    "print(f'{semi1.name} ({semi1.lastMotivation:.2f}) x {semi2.name} ({semi2.lastMotivation:.2f})')\n",
    "print(f'{semi3.name} ({semi3.lastMotivation:.2f}) x {semi4.name} ({semi4.lastMotivation:.2f})')"
   ]
  },
  {
   "cell_type": "code",
   "execution_count": 24,
   "id": "f537b8ac",
   "metadata": {},
   "outputs": [],
   "source": [
    "winner = final1 if final1.motivate() > final2.motivate() else final2\n",
    "second = final1 if final1.lastMotivation < final2.lastMotivation else final2\n",
    "third = terceiro1 if terceiro1.motivate() > terceiro2.motivate() else terceiro2\n",
    "fourth = terceiro1 if terceiro1.lastMotivation < terceiro2.lastMotivation else terceiro2"
   ]
  },
  {
   "cell_type": "code",
   "execution_count": 25,
   "id": "9197c7c1",
   "metadata": {},
   "outputs": [
    {
     "name": "stdout",
     "output_type": "stream",
     "text": [
      "1º: URU (87.88)\n",
      "2º: POR (82.89)\n",
      "3º: AUS (78.98)\n",
      "4º: ING (73.90)\n"
     ]
    }
   ],
   "source": [
    "print(f'1º: {winner.name} ({winner.lastMotivation:.2f})')\n",
    "print(f'2º: {second.name} ({second.lastMotivation:.2f})')\n",
    "print(f'3º: {third.name} ({third.lastMotivation:.2f})')\n",
    "print(f'4º: {fourth.name} ({fourth.lastMotivation:.2f})')"
   ]
  },
  {
   "cell_type": "code",
   "execution_count": null,
   "id": "da527618",
   "metadata": {},
   "outputs": [],
   "source": [
    "con.close()"
   ]
  }
 ],
 "metadata": {
  "kernelspec": {
   "display_name": "Python 3 (ipykernel)",
   "language": "python",
   "name": "python3"
  },
  "language_info": {
   "codemirror_mode": {
    "name": "ipython",
    "version": 3
   },
   "file_extension": ".py",
   "mimetype": "text/x-python",
   "name": "python",
   "nbconvert_exporter": "python",
   "pygments_lexer": "ipython3",
   "version": "3.9.12"
  }
 },
 "nbformat": 4,
 "nbformat_minor": 5
}
